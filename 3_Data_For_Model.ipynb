{
 "cells": [
  {
   "cell_type": "code",
   "execution_count": 7,
   "metadata": {},
   "outputs": [],
   "source": [
    "from os import listdir, mkdir, system, chdir\n",
    "from os.path import isfile, isdir, join, exists\n",
    "import pandas as pd\n",
    "import numpy as np\n",
    "import matplotlib.pyplot as plt\n",
    "from func import *\n",
    "import scipy as sp\n",
    "from imblearn.over_sampling import SMOTE\n",
    "\n",
    "fs = 300\n",
    "input_dir = 'Final_Database_New/'\n",
    "output_dir = 'One_Hot_Data/'\n",
    "if not exists(output_dir):\n",
    "    mkdir(output_dir)"
   ]
  },
  {
   "cell_type": "markdown",
   "metadata": {},
   "source": [
    "# 3 Labels and 3 Seconds"
   ]
  },
  {
   "cell_type": "code",
   "execution_count": 8,
   "metadata": {
    "collapsed": true
   },
   "outputs": [
    {
     "name": "stdout",
     "output_type": "stream",
     "text": [
      "3L\n",
      "3\n",
      "Normal\n",
      "3L\n",
      "3\n",
      "Afib\n",
      "3L\n",
      "3\n",
      "Other\n",
      "(1113, 903)\n",
      "(1113, 903)\n",
      "(1113, 903)\n",
      "(3339, 903)\n"
     ]
    }
   ],
   "source": [
    "for f in listdir(input_dir):\n",
    "    label = f.split(\"_\")[1]\n",
    "    print (label)\n",
    "    duration = f.split(\"_\")[2]\n",
    "    print (duration)\n",
    "    filename = (f.split(\"_\")[3]).split('.')[0]\n",
    "    print (filename)\n",
    "    if label == '3L' and duration == '3':\n",
    "        label_f = label\n",
    "        duration_F = duration\n",
    "        if filename == 'Afib':\n",
    "            df_Afib = pd.read_csv(join(input_dir,f),header=None)\n",
    "        if filename == 'Normal':\n",
    "            df_Normal = pd.read_csv(join(input_dir,f),header=None)\n",
    "        if filename == 'Other':\n",
    "            df_Other = pd.read_csv(join(input_dir,f),header=None)\n",
    "        \n",
    "print (df_Afib.shape)\n",
    "print (df_Normal.shape)\n",
    "print (df_Other.shape)\n",
    "df = pd.concat([df_Afib,df_Normal],axis=0)\n",
    "df = pd.concat([df,df_Other],axis=0)\n",
    "print (df.shape)\n",
    "df.to_csv(output_dir + label_f + '_' + duration_F + '.csv', index=False, header=None)"
   ]
  },
  {
   "cell_type": "code",
   "execution_count": null,
   "metadata": {},
   "outputs": [],
   "source": []
  },
  {
   "cell_type": "code",
   "execution_count": null,
   "metadata": {},
   "outputs": [],
   "source": []
  },
  {
   "cell_type": "code",
   "execution_count": null,
   "metadata": {},
   "outputs": [],
   "source": []
  },
  {
   "cell_type": "code",
   "execution_count": null,
   "metadata": {},
   "outputs": [],
   "source": []
  },
  {
   "cell_type": "markdown",
   "metadata": {},
   "source": [
    "# 2 Labels and 3 Seconds"
   ]
  },
  {
   "cell_type": "code",
   "execution_count": 3,
   "metadata": {
    "collapsed": true
   },
   "outputs": [
    {
     "name": "stdout",
     "output_type": "stream",
     "text": [
      "2L\n",
      "3\n",
      "Normal\n",
      "3L\n",
      "7\n",
      "Other\n",
      "3L\n",
      "3\n",
      "Afib\n",
      "3L\n",
      "3\n",
      "Normal\n",
      "3L\n",
      "7\n",
      "Afib\n",
      "2L\n",
      "3\n",
      "Afib\n",
      "3L\n",
      "3\n",
      "Other\n",
      "2L\n",
      "7\n",
      "Afib\n",
      "2L\n",
      "7\n",
      "Normal\n",
      "(32686, 902)\n",
      "(54332, 902)\n",
      "(87018, 902)\n"
     ]
    }
   ],
   "source": [
    "for f in listdir(input_dir):\n",
    "    label = f.split(\"_\")[1]\n",
    "    print (label)\n",
    "    duration = f.split(\"_\")[2]\n",
    "    print (duration)\n",
    "    filename = (f.split(\"_\")[3]).split('.')[0]\n",
    "    print (filename)\n",
    "    if label == '2L' and duration == '3':\n",
    "        label_f = label\n",
    "        duration_F = duration\n",
    "        if filename == 'Afib':\n",
    "            df_Afib = pd.read_csv(join(input_dir,f),header=None)\n",
    "        if filename == 'Normal':\n",
    "            df_Normal = pd.read_csv(join(input_dir,f),header=None)\n",
    "        \n",
    "print (df_Afib.shape)\n",
    "print (df_Normal.shape)\n",
    "df = pd.concat([df_Afib,df_Normal],axis=0)\n",
    "print (df.shape)\n",
    "df.to_csv(output_dir + label_f + '_' + duration_F + '.csv', index=False, header=None)"
   ]
  },
  {
   "cell_type": "markdown",
   "metadata": {},
   "source": [
    "# 3 Labels and 7 Seconds"
   ]
  },
  {
   "cell_type": "code",
   "execution_count": 5,
   "metadata": {
    "collapsed": true
   },
   "outputs": [
    {
     "name": "stdout",
     "output_type": "stream",
     "text": [
      "2L\n",
      "3\n",
      "Normal\n",
      "3L\n",
      "7\n",
      "Other\n",
      "3L\n",
      "3\n",
      "Afib\n",
      "3L\n",
      "3\n",
      "Normal\n",
      "3L\n",
      "7\n",
      "Normal\n",
      "3L\n",
      "7\n",
      "Afib\n",
      "2L\n",
      "3\n",
      "Afib\n",
      "3L\n",
      "3\n",
      "Other\n",
      "2L\n",
      "7\n",
      "Afib\n",
      "2L\n",
      "7\n",
      "Normal\n",
      "(14006, 2103)\n",
      "(23285, 2103)\n",
      "(23662, 2103)\n",
      "(60953, 2103)\n"
     ]
    }
   ],
   "source": [
    "for f in listdir(input_dir):\n",
    "    label = f.split(\"_\")[1]\n",
    "    print (label)\n",
    "    duration = f.split(\"_\")[2]\n",
    "    print (duration)\n",
    "    filename = (f.split(\"_\")[3]).split('.')[0]\n",
    "    print (filename)\n",
    "    if label == '3L' and duration == '7':\n",
    "        label_f = label\n",
    "        duration_F = duration\n",
    "        if filename == 'Afib':\n",
    "            df_Afib = pd.read_csv(join(input_dir,f),header=None)\n",
    "        if filename == 'Normal':\n",
    "            df_Normal = pd.read_csv(join(input_dir,f),header=None)\n",
    "        if filename == 'Other':\n",
    "            df_Other = pd.read_csv(join(input_dir,f),header=None)\n",
    "        \n",
    "print (df_Afib.shape)\n",
    "print (df_Normal.shape)\n",
    "print (df_Other.shape)\n",
    "df = pd.concat([df_Afib,df_Normal],axis=0)\n",
    "df = pd.concat([df,df_Other],axis=0)\n",
    "print (df.shape)\n",
    "df.to_csv(output_dir + label_f + '_' + duration_F + '.csv', index=False, header=None)"
   ]
  },
  {
   "cell_type": "markdown",
   "metadata": {},
   "source": [
    "# 2 Labels and 7 Seconds"
   ]
  },
  {
   "cell_type": "code",
   "execution_count": 6,
   "metadata": {
    "collapsed": true
   },
   "outputs": [
    {
     "name": "stdout",
     "output_type": "stream",
     "text": [
      "2L\n",
      "3\n",
      "Normal\n",
      "3L\n",
      "7\n",
      "Other\n",
      "3L\n",
      "3\n",
      "Afib\n",
      "3L\n",
      "3\n",
      "Normal\n",
      "3L\n",
      "7\n",
      "Normal\n",
      "3L\n",
      "7\n",
      "Afib\n",
      "2L\n",
      "3\n",
      "Afib\n",
      "3L\n",
      "3\n",
      "Other\n",
      "2L\n",
      "7\n",
      "Afib\n",
      "2L\n",
      "7\n",
      "Normal\n",
      "(14006, 2102)\n",
      "(23285, 2102)\n",
      "(37291, 2102)\n"
     ]
    }
   ],
   "source": [
    "for f in listdir(input_dir):\n",
    "    label = f.split(\"_\")[1]\n",
    "    print (label)\n",
    "    duration = f.split(\"_\")[2]\n",
    "    print (duration)\n",
    "    filename = (f.split(\"_\")[3]).split('.')[0]\n",
    "    print (filename)\n",
    "    if label == '2L' and duration == '7':\n",
    "        label_f = label\n",
    "        duration_F = duration\n",
    "        if filename == 'Afib':\n",
    "            df_Afib = pd.read_csv(join(input_dir,f),header=None)\n",
    "        if filename == 'Normal':\n",
    "            df_Normal = pd.read_csv(join(input_dir,f),header=None)\n",
    "        \n",
    "print (df_Afib.shape)\n",
    "print (df_Normal.shape)\n",
    "df = pd.concat([df_Afib,df_Normal],axis=0)\n",
    "print (df.shape)\n",
    "df.to_csv(output_dir + label_f + '_' + duration_F + '.csv', index=False, header=None)"
   ]
  },
  {
   "cell_type": "code",
   "execution_count": null,
   "metadata": {},
   "outputs": [],
   "source": []
  }
 ],
 "metadata": {
  "kernelspec": {
   "display_name": "Python 3",
   "language": "python",
   "name": "python3"
  },
  "language_info": {
   "codemirror_mode": {
    "name": "ipython",
    "version": 3
   },
   "file_extension": ".py",
   "mimetype": "text/x-python",
   "name": "python",
   "nbconvert_exporter": "python",
   "pygments_lexer": "ipython3",
   "version": "3.9.15"
  }
 },
 "nbformat": 4,
 "nbformat_minor": 2
}
