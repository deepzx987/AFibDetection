{
 "cells": [
  {
   "cell_type": "code",
   "execution_count": 6,
   "metadata": {},
   "outputs": [],
   "source": [
    "from os import listdir, mkdir, system, chdir\n",
    "from os.path import isfile, isdir, join, exists\n",
    "import pandas as pd\n",
    "import numpy as np\n",
    "import matplotlib.pyplot as plt\n",
    "from func import *\n",
    "import scipy as sp\n",
    "fs = 300\n",
    "input_dir = 'Final_Database/'\n",
    "output_dir = 'Final_Database_New/'\n",
    "if not exists(output_dir):\n",
    "    mkdir(output_dir)"
   ]
  },
  {
   "cell_type": "markdown",
   "metadata": {},
   "source": [
    "# For 3 Labels"
   ]
  },
  {
   "cell_type": "code",
   "execution_count": 7,
   "metadata": {},
   "outputs": [
    {
     "name": "stdout",
     "output_type": "stream",
     "text": [
      "3\n",
      "Other\n",
      "(1113, 900)\n",
      "(1113, 903)\n",
      "\n",
      "3\n",
      "Normal\n",
      "(1113, 900)\n",
      "(1113, 903)\n",
      "\n",
      "3\n",
      "Afib\n",
      "(1113, 900)\n",
      "(1113, 903)\n",
      "\n"
     ]
    }
   ],
   "source": [
    "for f in listdir(input_dir):\n",
    "    duration = int(f.split(\"_\")[0])\n",
    "    print (duration)\n",
    "    # if duration == 3:\n",
    "    #     continue\n",
    "    filename = (f.split(\"_\")[1]).split('.')[0]\n",
    "    print (filename)\n",
    "    df = pd.read_csv(join(input_dir,f),header=None)\n",
    "    print (df.shape)\n",
    "    \n",
    "    if filename == 'Afib':\n",
    "        d1 = pd.DataFrame(np.ones((len(df),1)))\n",
    "        d2 = pd.DataFrame(np.zeros((len(df),1)))\n",
    "        d3 = pd.DataFrame(np.zeros((len(df),1)))\n",
    "        df = pd.concat([df,d1],axis=1)\n",
    "        df = pd.concat([df,d2],axis=1)\n",
    "        df = pd.concat([df,d3],axis=1)\n",
    "    if filename == 'Normal':\n",
    "        d1 = pd.DataFrame(np.zeros((len(df),1)))\n",
    "        d2 = pd.DataFrame(np.ones((len(df),1)))\n",
    "        d3 = pd.DataFrame(np.zeros((len(df),1)))\n",
    "        df = pd.concat([df,d1],axis=1)\n",
    "        df = pd.concat([df,d2],axis=1)\n",
    "        df = pd.concat([df,d3],axis=1)\n",
    "    if filename == 'Other':\n",
    "        d1 = pd.DataFrame(np.zeros((len(df),1)))\n",
    "        d2 = pd.DataFrame(np.zeros((len(df),1)))\n",
    "        d3 = pd.DataFrame(np.ones((len(df),1)))\n",
    "        df = pd.concat([df,d1],axis=1)\n",
    "        df = pd.concat([df,d2],axis=1)\n",
    "        df = pd.concat([df,d3],axis=1)\n",
    "        \n",
    "    name = 'OHE_3L_'+f\n",
    "    loc = join(output_dir,name)\n",
    "    print (df.shape)\n",
    "    df.to_csv(loc,header=None, index=False)\n",
    "    print ()"
   ]
  },
  {
   "cell_type": "code",
   "execution_count": null,
   "metadata": {},
   "outputs": [],
   "source": []
  },
  {
   "cell_type": "code",
   "execution_count": null,
   "metadata": {},
   "outputs": [],
   "source": []
  },
  {
   "cell_type": "code",
   "execution_count": null,
   "metadata": {},
   "outputs": [],
   "source": []
  },
  {
   "cell_type": "code",
   "execution_count": null,
   "metadata": {},
   "outputs": [],
   "source": []
  },
  {
   "cell_type": "code",
   "execution_count": null,
   "metadata": {},
   "outputs": [],
   "source": []
  },
  {
   "cell_type": "code",
   "execution_count": null,
   "metadata": {},
   "outputs": [],
   "source": []
  },
  {
   "cell_type": "code",
   "execution_count": null,
   "metadata": {},
   "outputs": [],
   "source": []
  },
  {
   "cell_type": "markdown",
   "metadata": {},
   "source": [
    "# For 2 Labels"
   ]
  },
  {
   "cell_type": "code",
   "execution_count": 2,
   "metadata": {},
   "outputs": [
    {
     "name": "stdout",
     "output_type": "stream",
     "text": [
      "7\n",
      "Afib\n",
      "(14006, 2100)\n",
      "(14006, 2102)\n",
      "\n",
      "3\n",
      "7\n",
      "Normal\n",
      "(23285, 2100)\n",
      "(23285, 2102)\n",
      "\n",
      "3\n",
      "3\n"
     ]
    }
   ],
   "source": [
    "for f in listdir(input_dir):\n",
    "    duration = int(f.split(\"_\")[0])\n",
    "    print (duration)\n",
    "    if duration == 3:\n",
    "        continue\n",
    "    filename = (f.split(\"_\")[1]).split('.')[0]\n",
    "    print (filename)\n",
    "    df = pd.read_csv(join(input_dir,f),header=None)\n",
    "    print (df.shape)\n",
    "    \n",
    "    if filename == 'Afib':\n",
    "        d1 = pd.DataFrame(np.ones((len(df),1)))\n",
    "        d2 = pd.DataFrame(np.zeros((len(df),1)))\n",
    "        df = pd.concat([df,d1],axis=1)\n",
    "        df = pd.concat([df,d2],axis=1)\n",
    "        \n",
    "    if filename == 'Normal':\n",
    "        d1 = pd.DataFrame(np.zeros((len(df),1)))\n",
    "        d2 = pd.DataFrame(np.ones((len(df),1)))\n",
    "        df = pd.concat([df,d1],axis=1)\n",
    "        df = pd.concat([df,d2],axis=1)\n",
    "\n",
    "    name = 'OHE_2L_'+f\n",
    "    loc = join(output_dir,name)\n",
    "    print (df.shape)\n",
    "    df.to_csv(loc,header=None, index=False)\n",
    "    print ()"
   ]
  },
  {
   "cell_type": "code",
   "execution_count": null,
   "metadata": {},
   "outputs": [],
   "source": []
  }
 ],
 "metadata": {
  "kernelspec": {
   "display_name": "Python 3",
   "language": "python",
   "name": "python3"
  },
  "language_info": {
   "codemirror_mode": {
    "name": "ipython",
    "version": 3
   },
   "file_extension": ".py",
   "mimetype": "text/x-python",
   "name": "python",
   "nbconvert_exporter": "python",
   "pygments_lexer": "ipython3",
   "version": "3.9.15"
  }
 },
 "nbformat": 4,
 "nbformat_minor": 2
}
