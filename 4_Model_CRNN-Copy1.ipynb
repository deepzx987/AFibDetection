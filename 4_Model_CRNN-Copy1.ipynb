{
 "cells": [
  {
   "cell_type": "code",
   "execution_count": 1,
   "metadata": {},
   "outputs": [
    {
     "name": "stderr",
     "output_type": "stream",
     "text": [
      "Using TensorFlow backend.\n"
     ]
    }
   ],
   "source": [
    "from os import listdir, mkdir, system\n",
    "from os.path import isfile, isdir, join, exists\n",
    "import pandas as pd\n",
    "import numpy as np\n",
    "import keras\n",
    "import matplotlib.pyplot as plt\n",
    "from sklearn.model_selection import train_test_split\n",
    "from sklearn.metrics import classification_report, confusion_matrix\n",
    "from keras import Sequential\n",
    "from keras.layers import Conv1D, BatchNormalization, Dropout, MaxPooling1D, Flatten, Dense, LSTM\n",
    "from keras.callbacks import EarlyStopping\n",
    "import itertools\n",
    "\n",
    "# fix random seed for reproducibility\n",
    "np.random.seed(7)\n",
    "fs = 300\n",
    "input_dir = 'One_Hot_Data/'"
   ]
  },
  {
   "cell_type": "code",
   "execution_count": 2,
   "metadata": {},
   "outputs": [],
   "source": [
    "def plot_confusion_matrix(cm, name, classes,\n",
    "                          normalize=False,\n",
    "                          title='Confusion matrix',\n",
    "                          cmap=plt.cm.Blues):\n",
    "    \"\"\"\n",
    "    This function prints and plots the confusion matrix.\n",
    "    Normalization can be applied by setting `normalize=True`.\n",
    "    \"\"\"\n",
    "    plt.imshow(cm, interpolation='nearest', cmap=cmap)\n",
    "    plt.title(title)\n",
    "    plt.colorbar()\n",
    "    tick_marks = np.arange(len(classes))\n",
    "    plt.xticks(tick_marks, classes, rotation=0)\n",
    "    plt.yticks(tick_marks, classes)\n",
    "\n",
    "    if normalize:\n",
    "        cm = cm.astype('float') / cm.sum(axis=1)[:, np.newaxis]\n",
    "        #print(\"Normalized confusion matrix\")\n",
    "    else:\n",
    "        1#print('Confusion matrix, without normalization')\n",
    "\n",
    "    #print(cm)\n",
    "\n",
    "    thresh = cm.max() / 2.\n",
    "    for i, j in itertools.product(range(cm.shape[0]), range(cm.shape[1])):\n",
    "        plt.text(j, i, cm[i, j],\n",
    "                 horizontalalignment=\"center\",\n",
    "                 color=\"white\" if cm[i, j] > thresh else \"black\")\n",
    "\n",
    "    # plt.tight_layout()\n",
    "    plt.ylabel('True label')\n",
    "    plt.xlabel('Predicted label')\n",
    "    plt.savefig(name+'_confmat.png',dpi=250)\n",
    "    plt.close()\n"
   ]
  },
  {
   "cell_type": "markdown",
   "metadata": {},
   "source": [
    "## Loading Data and modelling"
   ]
  },
  {
   "cell_type": "code",
   "execution_count": 6,
   "metadata": {
    "scrolled": true
   },
   "outputs": [
    {
     "name": "stdout",
     "output_type": "stream",
     "text": [
      "4\n",
      "(61836, 1200, 1)\n",
      "(61836, 4)\n"
     ]
    }
   ],
   "source": [
    "for f in listdir(input_dir):\n",
    "    print (f.split(\".\")[0])\n",
    "    df = pd.read_csv(join(input_dir,f), header=None)\n",
    "    data = df.values\n",
    "    X = data[:,:-4]\n",
    "    X.shape\n",
    "    X = X.reshape(-1, X.shape[1], 1)\n",
    "    y = data[:,-4:]\n",
    "    print (X.shape)\n",
    "    print (y.shape)\n",
    "\n",
    "    X_train, X_test, y_train, y_test = train_test_split(X, y, test_size=0.1, random_state=1, shuffle=True)\n",
    "    X_train, X_val, y_train, y_val = train_test_split(X_train, y_train, test_size=0.1, random_state=1, shuffle=True)\n",
    "    break"
   ]
  },
  {
   "cell_type": "code",
   "execution_count": 8,
   "metadata": {
    "scrolled": true
   },
   "outputs": [
    {
     "name": "stdout",
     "output_type": "stream",
     "text": [
      "_________________________________________________________________\n",
      "Layer (type)                 Output Shape              Param #   \n",
      "=================================================================\n",
      "conv1d_2 (Conv1D)            (None, 1200, 5)           80        \n",
      "_________________________________________________________________\n",
      "batch_normalization_2 (Batch (None, 1200, 5)           20        \n",
      "_________________________________________________________________\n",
      "dropout_2 (Dropout)          (None, 1200, 5)           0         \n",
      "_________________________________________________________________\n",
      "max_pooling1d_2 (MaxPooling1 (None, 600, 5)            0         \n",
      "_________________________________________________________________\n",
      "lstm_2 (LSTM)                (None, 5)                 220       \n",
      "_________________________________________________________________\n",
      "dense_3 (Dense)              (None, 5)                 30        \n",
      "_________________________________________________________________\n",
      "dense_4 (Dense)              (None, 4)                 24        \n",
      "=================================================================\n",
      "Total params: 374\n",
      "Trainable params: 364\n",
      "Non-trainable params: 10\n",
      "_________________________________________________________________\n",
      "Train on 50086 samples, validate on 5566 samples\n",
      "Epoch 1/10\n",
      "50086/50086 [==============================] - 46s 912us/step - loss: 0.1858 - acc: 0.3211 - val_loss: 0.1840 - val_acc: 0.3297\n",
      "Epoch 2/10\n",
      "50086/50086 [==============================] - 43s 855us/step - loss: 0.1818 - acc: 0.3310 - val_loss: 0.1820 - val_acc: 0.3367\n",
      "Epoch 3/10\n",
      "50086/50086 [==============================] - 43s 849us/step - loss: 0.1805 - acc: 0.3283 - val_loss: 0.1813 - val_acc: 0.3405\n",
      "Epoch 4/10\n",
      "50086/50086 [==============================] - 42s 846us/step - loss: 0.1801 - acc: 0.3329 - val_loss: 0.1808 - val_acc: 0.3241\n",
      "Epoch 5/10\n",
      "50086/50086 [==============================] - 42s 848us/step - loss: 0.1776 - acc: 0.3376 - val_loss: 0.1772 - val_acc: 0.3498\n",
      "Epoch 6/10\n",
      "50086/50086 [==============================] - 42s 848us/step - loss: 0.1760 - acc: 0.3443 - val_loss: 0.1749 - val_acc: 0.3554\n",
      "Epoch 7/10\n",
      "50086/50086 [==============================] - 46s 912us/step - loss: 0.1750 - acc: 0.3415 - val_loss: 0.1747 - val_acc: 0.3489\n",
      "Epoch 8/10\n",
      "50086/50086 [==============================] - 42s 845us/step - loss: 0.1737 - acc: 0.3421 - val_loss: 0.1737 - val_acc: 0.3512\n",
      "Epoch 9/10\n",
      "50086/50086 [==============================] - 42s 845us/step - loss: 0.1720 - acc: 0.3893 - val_loss: 0.1716 - val_acc: 0.3872\n",
      "Epoch 10/10\n",
      "50086/50086 [==============================] - 42s 844us/step - loss: 0.1758 - acc: 0.3404 - val_loss: 0.1733 - val_acc: 0.3963\n"
     ]
    }
   ],
   "source": [
    "model = Sequential()\n",
    "\n",
    "model.add(Conv1D(filters=5, kernel_size=(15), activation='relu', input_shape=(X.shape[1],1), \n",
    "                 padding='same', strides=1, kernel_initializer='he_normal'))\n",
    "model.add(BatchNormalization())\n",
    "model.add(Dropout(0.5))\n",
    "model.add(MaxPooling1D(pool_size=2, strides=2))\n",
    "\n",
    "model.add(LSTM(5))\n",
    "\n",
    "model.add(Dense(5, activation='relu'))\n",
    "model.add(Dense(y.shape[1], activation='softmax'))\n",
    "model.compile(optimizer='adam', loss='mse', metrics=['accuracy'])\n",
    "\n",
    "model.summary()\n",
    "\n",
    "history = model.fit(X_train, y_train, batch_size=512, epochs=10, verbose=1, validation_data=(X_val, y_val), \n",
    "            callbacks=[EarlyStopping(monitor='val_loss', patience=3, verbose=1)])"
   ]
  },
  {
   "cell_type": "code",
   "execution_count": 35,
   "metadata": {},
   "outputs": [
    {
     "data": {
      "image/png": "[encoded data removed]",
      "text/plain": [
       "<Figure size 360x216 with 1 Axes>"
      ]
     },
     "metadata": {
      "needs_background": "light"
     },
     "output_type": "display_data"
    }
   ],
   "source": [
    "accuracy = history.history['acc']\n",
    "val_accuracy = history.history['val_acc']\n",
    "loss = history.history['loss']\n",
    "val_loss = history.history['val_loss']\n",
    "epochs = range(len(accuracy))\n",
    "    plt.figure(figsize=(5,3))\n",
    "    plt.plot(epochs, accuracy, 'k--', label='Training accuracy')\n",
    "    plt.plot(epochs, val_accuracy, 'k', label='Validation accuracy')\n",
    "\n",
    "    \n",
    "    \n",
    "plt.title('Training and validation accuracy')\n",
    "    plt.figure(figsize=(5,3))\n",
    "    plt.plot(epochs, loss, 'k--', label='Training loss')\n",
    "    plt.plot(epochs, val_loss, 'k', label='Validation loss')\n",
    "plt.xlabel('Epochs')\n",
    "plt.ylabel('Accuracy')\n",
    "plt.legend()\n",
    "plt.tight_layout()\n",
    "plt.savefig(f[0]+'_acc.png',dpi=100)\n",
    "plt.show()"
   ]
  },
  {
   "cell_type": "code",
   "execution_count": null,
   "metadata": {},
   "outputs": [],
   "source": [
    "    \n",
    "    print (TP[0], ',', FP[0], ',', TN[0], ',', FN[0], ',', '{:.2f}%'.format(float(PPV[0]*100)), ',', '{:.2f}%'.format(float(ACC[0]*100)), ',', '{:.2f}%'.format(float(SEN[0]*100)), ',','{:.2f}%'.format(float(SPE[0]*100)), ',','{:.2f}%'.format(float(F1S[0]*100)), ',','{:.2f}%'.format(float(AUC[0]*100))\n",
    "    print (TP[1], ',', FP[1], ',', TN[1], ',', FN[1], ',', '{:.2f}%'.format(float(PPV[1]*100)), ',', '{:.2f}%'.format(float(ACC[1]*100)), ',', '{:.2f}%'.format(float(SEN[1]*100)), ',','{:.2f}%'.format(float(SPE[1]*100)), ',','{:.2f}%'.format(float(F1S[1]*100)), ',','{:.2f}%'.format(float(AUC[1]*100))\n",
    "    print (TP[2], ',', FP[2], ',', TN[2], ',', FN[2], ',', '{:.2f}%'.format(float(PPV[2]*100)), ',', '{:.2f}%'.format(float(ACC[2]*100)), ',', '{:.2f}%'.format(float(SEN[2]*100)), ',','{:.2f}%'.format(float(SPE[2]*100)), ',','{:.2f}%'.format(float(F1S[2]*100)), ',','{:.2f}%'.format(float(AUC[2]*100))\n"
   ]
  },
  {
   "cell_type": "code",
   "execution_count": null,
   "metadata": {},
   "outputs": [],
   "source": [
    "accuracy = history.history['acc']\n",
    "val_accuracy = history.history['val_acc']\n",
    "loss = history.history['loss']\n",
    "val_loss = history.history['val_loss']\n",
    "epochs = range(len(accuracy))\n",
    "plt.figure(figsize=(8,4))\n",
    "plt.plot(epochs, accuracy, 'k-', label='Training accuracy')\n",
    "plt.plot(epochs, val_accuracy, 'ko', label='Validation accuracy')\n",
    "plt.title('Training and validation accuracy')\n",
    "plt.xlabel('Epochs')\n",
    "plt.ylabel('Accuracy')\n",
    "plt.legend()\n",
    "# plt.savefig(f[0]+'_acc.png',dpi=200)\n",
    "plt.show()\n",
    "\n",
    "plt.figure(figsize=(8,4))\n",
    "    plt.plot(epochs, loss, 'k--', label='Training loss')\n",
    "    plt.plot(epochs, val_loss, 'ko', label='Validation loss')\n",
    "plt.title('Training and validation loss')\n",
    "plt.xlabel('Epochs')\n",
    "plt.ylabel('Loss')\n",
    "plt.legend()\n",
    "plt.savefig(f[0]+'_loss.png',dpi=200)\n",
    "plt.close()\n",
    "\n",
    "model.save(f[0]+\"_model.h5py\")\n",
    "\n",
    "new_y_pred = model.predict(X_test)\n",
    "y_test_arg = np.argmax(np.round(y_test),axis=1)\n",
    "y_pred_arg = np.argmax(np.round(new_y_pred),axis=1)\n",
    "y_pred = np.zeros((new_y_pred.shape[0],new_y_pred.shape[1]))\n",
    "\n",
    "from pycm import *\n",
    "cm = ConfusionMatrix(actual_vector=y_test_arg, predict_vector=y_pred_arg)\n",
    "totalt = cm.__dict__\n",
    "\n",
    "TP = totalt['TP']\n",
    "FP = totalt['FP']\n",
    "TN = totalt['TN']\n",
    "FN = totalt['FN']\n",
    "\n",
    "PPV = totalt['PPV']\n",
    "ACC = totalt['ACC']\n",
    "SEN = totalt['TPR']\n",
    "SPE = totalt['TNR']\n",
    "F1S = totalt['F1']\n",
    "AUC = totalt['AUC']\n",
    "\n",
    "print ('TP,FP,TN,FN,Precision,Accuracy,Sensitivity,Specificity,F1Score,AUC')\n",
    "print (TP[0], ',', FP[0], ',', TN[0], ',', FN[0], ',', '{:.2f}%'.format(PPV[0]*100), ',', '{:.2f}%'.format(ACC[0]*100), ',', '{:.2f}%'.format(SEN[0]*100), ',','{:.2f}%'.format(SPE[0]*100), ',','{:.2f}%'.format(F1S[0]*100), ',','{:.2f}%'.format(AUC[0]*100))\n",
    "print (TP[1], ',', FP[1], ',', TN[1], ',', FN[1], ',', '{:.2f}%'.format(PPV[1]*100), ',','{:.2f}%'.format(ACC[1]*100), ',','{:.2f}%'.format(SEN[1]*100), ',','{:.2f}%'.format(SPE[1]*100), ',','{:.2f}%'.format(F1S[1]*100), ',','{:.2f}%'.format(AUC[1]*100))\n",
    "print (TP[2], ',', FP[2], ',', TN[2], ',', FN[2], ',', '{:.2f}%'.format(PPV[2]*100), ',','{:.2f}%'.format(ACC[2]*100), ',','{:.2f}%'.format(SEN[2]*100), ',','{:.2f}%'.format(SPE[2]*100), ',','{:.2f}%'.format(F1S[2]*100), ',','{:.2f}%'.format(AUC[2]*100))\n",
    "\n",
    "\n",
    "for i in range(y_pred.shape[0]):\n",
    "    y_pred[i][y_pred_arg[i]] = 1\n",
    "\n",
    "print (classification_report(y_test, y_pred))\n",
    "cnf_matrix = confusion_matrix(y_test_arg, y_pred_arg)\n",
    "\n",
    "# Plot non-normalized confusion matrix\n",
    "class_names = ['Normal','AFiB','Other', 'Noisy']\n",
    "plt.figure(figsize=(8,5))\n",
    "plot_confusion_matrix(cnf_matrix, name = f[0], classes=class_names, title='Confusion matrix')"
   ]
  },
  {
   "cell_type": "code",
   "execution_count": null,
   "metadata": {},
   "outputs": [],
   "source": []
  },
  {
   "cell_type": "code",
   "execution_count": null,
   "metadata": {},
   "outputs": [],
   "source": []
  },
  {
   "cell_type": "code",
   "execution_count": null,
   "metadata": {},
   "outputs": [],
   "source": [
    "# model.add(Flatten())\n",
    "\n",
    "# model.add(Dense(128, activation='relu'))\n",
    "# model.add(Dense(y.shape[1], activation='softmax'))\n",
    "\n",
    "\n",
    "# model.add(Conv2D(512, 3, strides=(32, 4), padding='same', input_shape=(1, 32, None)))\n",
    "# model.add(Reshape((512, -1)))\n",
    "# model.add(Permute((2, 1)))\n",
    "# model = Sequential()\n",
    "# model.add(LSTM(200, activation='relu', input_shape=(X.shape[1],1)))"
   ]
  }
 ],
 "metadata": {
  "kernelspec": {
   "display_name": "Python 3",
   "language": "python",
   "name": "python3"
  },
  "language_info": {
   "codemirror_mode": {
    "name": "ipython",
    "version": 3
   },
   "file_extension": ".py",
   "mimetype": "text/x-python",
   "name": "python",
   "nbconvert_exporter": "python",
   "pygments_lexer": "ipython3",
   "version": "3.6.7"
  }
 },
 "nbformat": 4,
 "nbformat_minor": 2
}
