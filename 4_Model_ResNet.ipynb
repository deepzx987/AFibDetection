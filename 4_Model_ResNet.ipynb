{
 "cells": [
  {
   "cell_type": "code",
   "execution_count": 15,
   "metadata": {},
   "outputs": [],
   "source": [
    "from os import listdir, mkdir, system\n",
    "from os.path import isfile, isdir, join, exists\n",
    "import pandas as pd\n",
    "import numpy as np\n",
    "import keras\n",
    "import matplotlib.pyplot as plt\n",
    "from sklearn.model_selection import train_test_split\n",
    "from sklearn.metrics import classification_report, confusion_matrix\n",
    "from keras import Sequential\n",
    "from keras.models import Model\n",
    "from keras.layers import Conv1D, BatchNormalization, Dropout, MaxPooling1D, Flatten, Dense, LSTM, Input, Activation\n",
    "from keras.callbacks import EarlyStopping\n",
    "import itertools\n",
    "\n",
    "# fix random seed for reproducibility\n",
    "np.random.seed(7)\n",
    "fs = 300\n",
    "input_dir = 'One_Hot_Data/'\n",
    "f = '3L_3.csv'"
   ]
  },
  {
   "attachments": {},
   "cell_type": "markdown",
   "metadata": {},
   "source": [
    "## Load Data"
   ]
  },
  {
   "cell_type": "code",
   "execution_count": 16,
   "metadata": {},
   "outputs": [
    {
     "name": "stdout",
     "output_type": "stream",
     "text": [
      "(3339, 899, 1)\n",
      "(3339, 4)\n"
     ]
    }
   ],
   "source": [
    "df = pd.read_csv(join(input_dir,f), header=None)\n",
    "data = df.values\n",
    "X = data[:,:-4]\n",
    "X.shape\n",
    "X = X.reshape(-1, X.shape[1], 1)\n",
    "y = data[:,-4:]\n",
    "print (X.shape)\n",
    "print (y.shape)\n",
    "\n",
    "X_train, X_test, y_train, y_test = train_test_split(X, y, test_size=0.1, random_state=1, shuffle=True)\n",
    "X_train, X_val, y_train, y_val = train_test_split(X_train, y_train, test_size=0.1, random_state=1, shuffle=True)\n"
   ]
  },
  {
   "attachments": {},
   "cell_type": "markdown",
   "metadata": {},
   "source": [
    "# Modelling\n",
    "\n",
    "## CNN\n",
    "## CRNN\n",
    "## ResNet"
   ]
  },
  {
   "cell_type": "code",
   "execution_count": 17,
   "metadata": {},
   "outputs": [],
   "source": [
    "def build_cnn_model(Input_Shape, Output_Shape):    \n",
    "    model = Sequential()\n",
    "    model.add(Conv1D(filters=64, kernel_size=(180), activation='relu', input_shape=(Input_Shape,1), \n",
    "                     padding='same', strides=1, kernel_initializer='he_normal'))\n",
    "    model.add(BatchNormalization())\n",
    "    model.add(Dropout(0.5))\n",
    "    model.add(MaxPooling1D(pool_size=2, strides=2))\n",
    "\n",
    "    model.add(Conv1D(filters=16, kernel_size=(90), activation='relu', \n",
    "                     padding='same', strides=1, kernel_initializer='he_normal'))\n",
    "    model.add(BatchNormalization())\n",
    "    model.add(Dropout(0.5))\n",
    "    model.add(MaxPooling1D(pool_size=2, strides=2))\n",
    "\n",
    "    model.add(Conv1D(filters=4, kernel_size=(45), activation='relu', \n",
    "                     padding='same', strides=1, kernel_initializer='he_normal'))\n",
    "    model.add(BatchNormalization())\n",
    "    model.add(Dropout(0.5))\n",
    "    model.add(MaxPooling1D(pool_size=2, strides=2))\n",
    "\n",
    "    model.add(Flatten())\n",
    "    \n",
    "    model.add(Dense(128, activation='relu'))\n",
    "    model.add(Dense(Output_Shape, activation='softmax'))\n",
    "    model.compile(optimizer='adam', loss='categorical_crossentropy', metrics=['accuracy'])\n",
    "    \n",
    "    model.summary()\n",
    "    return model"
   ]
  },
  {
   "cell_type": "code",
   "execution_count": 18,
   "metadata": {},
   "outputs": [],
   "source": [
    "def build_crnn_model(Input_Shape, Output_Shape):   \n",
    "    model = Sequential()\n",
    "\n",
    "    model.add(Conv1D(filters=5, kernel_size=(15), activation='relu', input_shape=(Input_Shape,1), \n",
    "                    padding='same', strides=1, kernel_initializer='he_normal'))\n",
    "    model.add(BatchNormalization())\n",
    "    model.add(Dropout(0.5))\n",
    "    model.add(MaxPooling1D(pool_size=2, strides=2))\n",
    "\n",
    "    model.add(LSTM(5))\n",
    "\n",
    "    model.add(Dense(5, activation='relu'))\n",
    "    model.add(Dense(Output_Shape, activation='softmax'))\n",
    "    model.compile(optimizer='adam', loss='mse', metrics=['accuracy'])\n",
    "\n",
    "    model.summary()\n",
    "    return model\n"
   ]
  },
  {
   "cell_type": "code",
   "execution_count": 19,
   "metadata": {
    "scrolled": true
   },
   "outputs": [],
   "source": [
    "def build_resnet_model(Input_Shape, Output_Shape, layer):\n",
    "\n",
    "    OUTPUT_CLASS = Output_Shape  # output classes\n",
    "    k = 1  # increment every 4th residual block\n",
    "    p = True  # pool toggle every other residual block (end with 2^8)\n",
    "    convfilt = 64\n",
    "    convstr = 1\n",
    "    ksize = 16\n",
    "    poolsize = 2\n",
    "    poolstr = 2\n",
    "    drop = 0.5\n",
    "\n",
    "    input1 = Input(shape=(Input_Shape,1), name='input')\n",
    "\n",
    "    ## First convolutional block (conv,BN, relu)\n",
    "    x = Conv1D(filters=convfilt, kernel_size=ksize, padding='same', strides=convstr, kernel_initializer='he_normal')(input1)\n",
    "    x = BatchNormalization()(x)\n",
    "    x = Activation('relu')(x)\n",
    "\n",
    "    ## Second convolutional block (conv, BN, relu, dropout, conv) with residual net\n",
    "    # Left branch (convolutions)\n",
    "    x1 = Conv1D(filters=convfilt, kernel_size=ksize, padding='same', strides=convstr, kernel_initializer='he_normal')(x)\n",
    "    x1 = BatchNormalization()(x1)\n",
    "    x1 = Activation('relu')(x1)\n",
    "    x1 = Dropout(drop)(x1)\n",
    "    x1 = Conv1D(filters=convfilt, kernel_size=ksize, padding='same', strides=convstr, kernel_initializer='he_normal')(x1)\n",
    "    x1 = MaxPooling1D(pool_size=poolsize, strides=poolstr)(x1)\n",
    "\n",
    "    # Right branch, shortcut branch pooling\n",
    "    x2 = MaxPooling1D(pool_size=poolsize, strides=poolstr)(x)\n",
    "\n",
    "    # Merge both branches\n",
    "    x = keras.layers.add([x1, x2])\n",
    "\n",
    "    del x1, x2\n",
    "\n",
    "    ## Main loop\n",
    "    p = not p\n",
    "    for l in range(layer):\n",
    "\n",
    "        if (l % 4 == 0) and (l > 0):  # increment k on every fourth residual block\n",
    "            k += 1\n",
    "            # increase depth by 1x1 Convolution case dimension shall change\n",
    "            xshort = Conv1D(filters=convfilt * k, kernel_size=1)(x)\n",
    "        else:\n",
    "            xshort = x\n",
    "            # Left branch (convolutions)\n",
    "        # notice the ordering of the operations has changed\n",
    "        x1 = BatchNormalization()(x)\n",
    "        x1 = Activation('relu')(x1)\n",
    "        x1 = Dropout(drop)(x1)\n",
    "        x1 = Conv1D(filters=convfilt * k, kernel_size=ksize, padding='same', strides=convstr, kernel_initializer='he_normal')(x1)\n",
    "        x1 = BatchNormalization()(x1)\n",
    "        x1 = Activation('relu')(x1)\n",
    "        x1 = Dropout(drop)(x1)\n",
    "        x1 = Conv1D(filters=convfilt * k, kernel_size=ksize, padding='same', strides=convstr, kernel_initializer='he_normal')(x1)\n",
    "        if p:\n",
    "            x1 = MaxPooling1D(pool_size=poolsize, strides=poolstr)(x1)\n",
    "\n",
    "            # Right branch: shortcut connection\n",
    "        if p:\n",
    "            x2 = MaxPooling1D(pool_size=poolsize, strides=poolstr)(xshort)\n",
    "        else:\n",
    "            x2 = xshort  # pool or identity\n",
    "        # Merging branches\n",
    "        x = keras.layers.add([x1, x2])\n",
    "        # change parameters\n",
    "        p = not p  # toggle pooling\n",
    "\n",
    "    # Final bit\n",
    "    x = BatchNormalization()(x)\n",
    "    x = Activation('relu')(x)\n",
    "    x = Flatten()(x)\n",
    "    # x = Dense(1000)(x)\n",
    "    # x = Dense(1000)(x)\n",
    "    out = Dense(OUTPUT_CLASS, activation='softmax')(x)\n",
    "    model = Model(inputs=input1, outputs=out)\n",
    "    model.compile(optimizer='adam', loss='categorical_crossentropy', metrics=['accuracy'])\n",
    "    model.summary()\n",
    "    return model"
   ]
  },
  {
   "attachments": {},
   "cell_type": "markdown",
   "metadata": {},
   "source": [
    "# Build and Plot Model"
   ]
  },
  {
   "cell_type": "code",
   "execution_count": 34,
   "metadata": {},
   "outputs": [
    {
     "name": "stdout",
     "output_type": "stream",
     "text": [
      "Model: \"sequential_12\"\n",
      "_________________________________________________________________\n",
      " Layer (type)                Output Shape              Param #   \n",
      "=================================================================\n",
      " conv1d_46 (Conv1D)          (None, 899, 64)           11584     \n",
      "                                                                 \n",
      " batch_normalization_45 (Bat  (None, 899, 64)          256       \n",
      " chNormalization)                                                \n",
      "                                                                 \n",
      " dropout_39 (Dropout)        (None, 899, 64)           0         \n",
      "                                                                 \n",
      " max_pooling1d_32 (MaxPoolin  (None, 449, 64)          0         \n",
      " g1D)                                                            \n",
      "                                                                 \n",
      " conv1d_47 (Conv1D)          (None, 449, 16)           92176     \n",
      "                                                                 \n",
      " batch_normalization_46 (Bat  (None, 449, 16)          64        \n",
      " chNormalization)                                                \n",
      "                                                                 \n",
      " dropout_40 (Dropout)        (None, 449, 16)           0         \n",
      "                                                                 \n",
      " max_pooling1d_33 (MaxPoolin  (None, 224, 16)          0         \n",
      " g1D)                                                            \n",
      "                                                                 \n",
      " conv1d_48 (Conv1D)          (None, 224, 4)            2884      \n",
      "                                                                 \n",
      " batch_normalization_47 (Bat  (None, 224, 4)           16        \n",
      " chNormalization)                                                \n",
      "                                                                 \n",
      " dropout_41 (Dropout)        (None, 224, 4)            0         \n",
      "                                                                 \n",
      " max_pooling1d_34 (MaxPoolin  (None, 112, 4)           0         \n",
      " g1D)                                                            \n",
      "                                                                 \n",
      " flatten_8 (Flatten)         (None, 448)               0         \n",
      "                                                                 \n",
      " dense_27 (Dense)            (None, 128)               57472     \n",
      "                                                                 \n",
      " dense_28 (Dense)            (None, 4)                 516       \n",
      "                                                                 \n",
      "=================================================================\n",
      "Total params: 164,968\n",
      "Trainable params: 164,800\n",
      "Non-trainable params: 168\n",
      "_________________________________________________________________\n"
     ]
    }
   ],
   "source": [
    "Name='CNN'\n",
    "model = build_cnn_model(X_train.shape[1], y_train.shape[1])\n",
    "\n",
    "# Name='CRNN'\n",
    "# model = build_crnn_model(X_train.shape[1], y_train.shape[1])\n",
    "\n",
    "# Name='ResNet'\n",
    "# model = build_resnet_model(X_train.shape[1], y_train.shape[1], 1)\n",
    "\n",
    "keras.utils.plot_model(model, to_file='Saved_Model/'+f[0]+'_'+Name+'.pdf')"
   ]
  },
  {
   "attachments": {},
   "cell_type": "markdown",
   "metadata": {},
   "source": [
    "# Train Model"
   ]
  },
  {
   "cell_type": "code",
   "execution_count": 35,
   "metadata": {},
   "outputs": [
    {
     "name": "stdout",
     "output_type": "stream",
     "text": [
      "Epoch 1/5\n",
      "22/22 [==============================] - 68s 3s/step - loss: 1.4760 - accuracy: 0.3391 - val_loss: 0.3553 - val_accuracy: 0.4286\n",
      "Epoch 2/5\n",
      "22/22 [==============================] - 59s 3s/step - loss: 0.8822 - accuracy: 0.3661 - val_loss: -0.0616 - val_accuracy: 0.4219\n",
      "Epoch 3/5\n",
      "22/22 [==============================] - 53s 2s/step - loss: 0.1267 - accuracy: 0.3953 - val_loss: -0.6197 - val_accuracy: 0.3953\n",
      "Epoch 4/5\n",
      "22/22 [==============================] - 51s 2s/step - loss: -2.2547 - accuracy: 0.3935 - val_loss: 0.5609 - val_accuracy: 0.1628\n",
      "Epoch 5/5\n",
      "22/22 [==============================] - 62s 3s/step - loss: -19.2636 - accuracy: 0.3469 - val_loss: -1.9398 - val_accuracy: 0.1462\n"
     ]
    }
   ],
   "source": [
    "history = model.fit(X_train, y_train, batch_size=128, epochs=5, verbose=1, validation_data=(X_val, y_val), \n",
    "        callbacks=[EarlyStopping(monitor='val_loss', patience=2, verbose=1)])"
   ]
  },
  {
   "attachments": {},
   "cell_type": "markdown",
   "metadata": {},
   "source": [
    "# Save model"
   ]
  },
  {
   "cell_type": "code",
   "execution_count": 36,
   "metadata": {},
   "outputs": [
    {
     "name": "stdout",
     "output_type": "stream",
     "text": [
      "Saved model to disk\n"
     ]
    }
   ],
   "source": [
    "# serialize model to JSON\n",
    "model_json = model.to_json()\n",
    "with open('Saved_Model/'+f[0]+\"_\"+Name+\".json\", \"w\") as json_file:\n",
    "    json_file.write(model_json)\n",
    "# serialize weights to HDF5\n",
    "model.save_weights('Saved_Model/'+f[0]+\"_\"+Name+\".h5\")\n",
    "print(\"Saved model to disk\")"
   ]
  },
  {
   "attachments": {},
   "cell_type": "markdown",
   "metadata": {},
   "source": [
    "# Load Model"
   ]
  },
  {
   "cell_type": "code",
   "execution_count": 37,
   "metadata": {},
   "outputs": [
    {
     "name": "stdout",
     "output_type": "stream",
     "text": [
      "Loaded model from disk\n"
     ]
    }
   ],
   "source": [
    "from tensorflow.keras.models import model_from_json\n",
    "\n",
    "# load json and create model\n",
    "json_file = open('Saved_Model/'+f[0]+\"_\"+Name+\".json\", 'r')\n",
    "loaded_model_json = json_file.read()\n",
    "json_file.close()\n",
    "loaded_model = model_from_json(loaded_model_json)\n",
    "# load weights into new model\n",
    "loaded_model.load_weights('Saved_Model/'+f[0]+\"_\"+Name+\".h5\")\n",
    "print(\"Loaded model from disk\")\n",
    "loaded_model.compile(optimizer='adam', loss='categorical_crossentropy', metrics=['accuracy'])"
   ]
  },
  {
   "attachments": {},
   "cell_type": "markdown",
   "metadata": {},
   "source": [
    "# Predict test samples\n"
   ]
  },
  {
   "cell_type": "code",
   "execution_count": 38,
   "metadata": {},
   "outputs": [
    {
     "name": "stdout",
     "output_type": "stream",
     "text": [
      "11/11 [==============================] - 2s 146ms/step\n"
     ]
    }
   ],
   "source": [
    "new_y_pred = loaded_model.predict(X_test)\n",
    "y_test_arg = np.argmax(np.round(y_test),axis=1)\n",
    "y_pred_arg = np.argmax(np.round(new_y_pred),axis=1)\n",
    "y_pred = np.zeros((new_y_pred.shape[0],new_y_pred.shape[1]))"
   ]
  },
  {
   "attachments": {},
   "cell_type": "markdown",
   "metadata": {},
   "source": [
    "# Plot model training curves\n"
   ]
  },
  {
   "cell_type": "code",
   "execution_count": 39,
   "metadata": {},
   "outputs": [],
   "source": [
    "accuracy = history.history['accuracy']\n",
    "val_accuracy = history.history['val_accuracy']\n",
    "loss = history.history['loss']\n",
    "val_loss = history.history['val_loss']\n",
    "epochs = range(len(accuracy))\n",
    "plt.figure(figsize=(8,4))\n",
    "plt.plot(epochs, accuracy, label='Training accuracy')\n",
    "plt.plot(epochs, val_accuracy, label='Validation accuracy')\n",
    "plt.title('Training and validation accuracy')\n",
    "plt.xlabel('Epochs')\n",
    "plt.ylabel('Accuracy')\n",
    "plt.legend()\n",
    "plt.savefig('Stats/'+f[0]+'_'+Name+'_acc.png',dpi=200)\n",
    "plt.close()\n",
    "\n",
    "plt.figure(figsize=(8,4))\n",
    "plt.plot(epochs, loss, label='Training loss')\n",
    "plt.plot(epochs, val_loss, label='Validation loss')\n",
    "plt.title('Training and validation loss')\n",
    "plt.xlabel('Epochs')\n",
    "plt.ylabel('Loss')\n",
    "plt.legend()\n",
    "plt.savefig('Stats/'+f[0]+'_'+Name+'_loss.png',dpi=200)\n",
    "plt.close()\n"
   ]
  },
  {
   "attachments": {},
   "cell_type": "markdown",
   "metadata": {},
   "source": [
    "Plot Confusion Matrix"
   ]
  },
  {
   "cell_type": "code",
   "execution_count": 40,
   "metadata": {},
   "outputs": [],
   "source": [
    "def plot_confusion_matrix(cm, name, Name, classes,\n",
    "                          normalize=False,\n",
    "                          title='Confusion matrix',\n",
    "                          cmap=plt.cm.Blues):\n",
    "    \"\"\"\n",
    "    This function prints and plots the confusion matrix.\n",
    "    Normalization can be applied by setting `normalize=True`.\n",
    "    \"\"\"\n",
    "    plt.imshow(cm, interpolation='nearest', cmap=cmap)\n",
    "    plt.title(title)\n",
    "    plt.colorbar()\n",
    "    tick_marks = np.arange(len(classes))\n",
    "    plt.xticks(tick_marks, classes, rotation=0)\n",
    "    plt.yticks(tick_marks, classes)\n",
    "\n",
    "    if normalize:\n",
    "        cm = cm.astype('float') / cm.sum(axis=1)[:, np.newaxis]\n",
    "        #print(\"Normalized confusion matrix\")\n",
    "    else:\n",
    "        1#print('Confusion matrix, without normalization')\n",
    "\n",
    "    #print(cm)\n",
    "\n",
    "    thresh = cm.max() / 2.\n",
    "    for i, j in itertools.product(range(cm.shape[0]), range(cm.shape[1])):\n",
    "        plt.text(j, i, cm[i, j],\n",
    "                 horizontalalignment=\"center\",\n",
    "                 color=\"white\" if cm[i, j] > thresh else \"black\")\n",
    "\n",
    "    # plt.tight_layout()\n",
    "    plt.ylabel('True label')\n",
    "    plt.xlabel('Predicted label')\n",
    "    plt.savefig('Stats/'+name+'_'+Name+'_confmat.png',dpi=250)\n",
    "    plt.close()"
   ]
  },
  {
   "cell_type": "code",
   "execution_count": 41,
   "metadata": {},
   "outputs": [],
   "source": [
    "for i in range(y_pred.shape[0]):\n",
    "    y_pred[i][y_pred_arg[i]] = 1\n",
    "\n",
    "cnf_matrix = confusion_matrix(y_test_arg, y_pred_arg)\n",
    "\n",
    "# Plot non-normalized confusion matrix\n",
    "class_names = ['Normal','AFiB','Other', 'Noisy']\n",
    "plt.figure(figsize=(8,5))\n",
    "plot_confusion_matrix(cnf_matrix, name = f[0], Name=Name, classes=class_names, title='Confusion matrix')"
   ]
  },
  {
   "cell_type": "code",
   "execution_count": null,
   "metadata": {},
   "outputs": [],
   "source": []
  }
 ],
 "metadata": {
  "kernelspec": {
   "display_name": "Python 3",
   "language": "python",
   "name": "python3"
  },
  "language_info": {
   "codemirror_mode": {
    "name": "ipython",
    "version": 3
   },
   "file_extension": ".py",
   "mimetype": "text/x-python",
   "name": "python",
   "nbconvert_exporter": "python",
   "pygments_lexer": "ipython3",
   "version": "3.10.6"
  }
 },
 "nbformat": 4,
 "nbformat_minor": 2
}
