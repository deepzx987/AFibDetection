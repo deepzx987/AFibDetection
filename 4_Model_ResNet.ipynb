{
 "cells": [
  {
   "cell_type": "code",
   "execution_count": 1,
   "metadata": {},
   "outputs": [
    {
     "name": "stderr",
     "output_type": "stream",
     "text": [
      "2023-06-22 02:15:02.455739: I tensorflow/tsl/cuda/cudart_stub.cc:28] Could not find cuda drivers on your machine, GPU will not be used.\n",
      "2023-06-22 02:15:02.522654: I tensorflow/tsl/cuda/cudart_stub.cc:28] Could not find cuda drivers on your machine, GPU will not be used.\n",
      "2023-06-22 02:15:02.523498: I tensorflow/core/platform/cpu_feature_guard.cc:182] This TensorFlow binary is optimized to use available CPU instructions in performance-critical operations.\n",
      "To enable the following instructions: AVX2 FMA, in other operations, rebuild TensorFlow with the appropriate compiler flags.\n",
      "2023-06-22 02:15:03.694515: W tensorflow/compiler/tf2tensorrt/utils/py_utils.cc:38] TF-TRT Warning: Could not find TensorRT\n"
     ]
    }
   ],
   "source": [
    "from os import listdir, mkdir, system\n",
    "from os.path import isfile, isdir, join, exists\n",
    "import pandas as pd\n",
    "import numpy as np\n",
    "import keras\n",
    "import matplotlib.pyplot as plt\n",
    "from sklearn.model_selection import train_test_split\n",
    "from sklearn.metrics import classification_report, confusion_matrix\n",
    "from keras import Sequential\n",
    "from keras.models import Model\n",
    "from keras.layers import Conv1D, BatchNormalization, Dropout, MaxPooling1D, Flatten, Dense, LSTM, Input, Activation\n",
    "from keras.callbacks import EarlyStopping\n",
    "import itertools\n",
    "\n",
    "# fix random seed for reproducibility\n",
    "np.random.seed(7)\n",
    "fs = 300\n",
    "input_dir = 'One_Hot_Data/'\n",
    "f = '3L_3.csv'"
   ]
  },
  {
   "attachments": {},
   "cell_type": "markdown",
   "metadata": {},
   "source": [
    "## Load Data"
   ]
  },
  {
   "cell_type": "code",
   "execution_count": 2,
   "metadata": {},
   "outputs": [
    {
     "name": "stdout",
     "output_type": "stream",
     "text": [
      "(3339, 899, 1)\n",
      "(3339, 4)\n"
     ]
    }
   ],
   "source": [
    "df = pd.read_csv(join(input_dir,f), header=None)\n",
    "data = df.values\n",
    "X = data[:,:-4]\n",
    "X.shape\n",
    "X = X.reshape(-1, X.shape[1], 1)\n",
    "y = data[:,-4:]\n",
    "print (X.shape)\n",
    "print (y.shape)\n",
    "\n",
    "X_train, X_test, y_train, y_test = train_test_split(X, y, test_size=0.1, random_state=1, shuffle=True)\n",
    "X_train, X_val, y_train, y_val = train_test_split(X_train, y_train, test_size=0.1, random_state=1, shuffle=True)\n"
   ]
  },
  {
   "attachments": {},
   "cell_type": "markdown",
   "metadata": {},
   "source": [
    "# Modelling\n",
    "\n",
    "## CNN\n",
    "## CRNN\n",
    "## ResNet"
   ]
  },
  {
   "cell_type": "code",
   "execution_count": 3,
   "metadata": {},
   "outputs": [],
   "source": [
    "def build_cnn_model(Input_Shape, Output_Shape):    \n",
    "    model = Sequential()\n",
    "    model.add(Conv1D(filters=64, kernel_size=(180), activation='relu', input_shape=(Input_Shape,1), \n",
    "                     padding='same', strides=1, kernel_initializer='he_normal'))\n",
    "    model.add(BatchNormalization())\n",
    "    model.add(Dropout(0.5))\n",
    "    model.add(MaxPooling1D(pool_size=2, strides=2))\n",
    "    model.add(Conv1D(filters=16, kernel_size=(90), activation='relu', \n",
    "                     padding='same', strides=1, kernel_initializer='he_normal'))\n",
    "    model.add(BatchNormalization())\n",
    "    model.add(Dropout(0.5))\n",
    "    model.add(MaxPooling1D(pool_size=2, strides=2))\n",
    "    model.add(Conv1D(filters=4, kernel_size=(45), activation='relu', \n",
    "                     padding='same', strides=1, kernel_initializer='he_normal'))\n",
    "    model.add(BatchNormalization())\n",
    "    model.add(Dropout(0.5))\n",
    "    model.add(MaxPooling1D(pool_size=2, strides=2))\n",
    "    model.add(Flatten())\n",
    "    model.add(Dense(128, activation='relu'))\n",
    "    model.add(Dense(Output_Shape, activation='softmax'))\n",
    "    model.compile(optimizer='adam', loss='categorical_crossentropy', metrics=['accuracy'])\n",
    "    \n",
    "    model.summary()\n",
    "    return model"
   ]
  },
  {
   "cell_type": "code",
   "execution_count": 4,
   "metadata": {},
   "outputs": [],
   "source": [
    "def build_crnn_model(Input_Shape, Output_Shape):   \n",
    "    model = Sequential()\n",
    "\n",
    "    model.add(Conv1D(filters=5, kernel_size=(15), activation='relu', input_shape=(Input_Shape,1), \n",
    "                    padding='same', strides=1, kernel_initializer='he_normal'))\n",
    "    model.add(BatchNormalization())\n",
    "    model.add(Dropout(0.5))\n",
    "    model.add(MaxPooling1D(pool_size=2, strides=2))\n",
    "\n",
    "    model.add(LSTM(5))\n",
    "\n",
    "    model.add(Dense(5, activation='relu'))\n",
    "    model.add(Dense(Output_Shape, activation='softmax'))\n",
    "    model.compile(optimizer='adam', loss='mse', metrics=['accuracy'])\n",
    "\n",
    "    model.summary()\n",
    "    return model\n"
   ]
  },
  {
   "cell_type": "code",
   "execution_count": 5,
   "metadata": {
    "scrolled": true
   },
   "outputs": [],
   "source": [
    "def build_resnet_model(Input_Shape, Output_Shape, layer):\n",
    "\n",
    "    OUTPUT_CLASS = Output_Shape  # output classes\n",
    "    k = 1  # increment every 4th residual block\n",
    "    p = True  # pool toggle every other residual block (end with 2^8)\n",
    "    convfilt = 64\n",
    "    convstr = 1\n",
    "    ksize = 16\n",
    "    poolsize = 2\n",
    "    poolstr = 2\n",
    "    drop = 0.5\n",
    "\n",
    "    input1 = Input(shape=(Input_Shape,1), name='input')\n",
    "\n",
    "    ## First convolutional block (conv,BN, relu)\n",
    "    x = Conv1D(filters=convfilt, kernel_size=ksize, padding='same', strides=convstr, kernel_initializer='he_normal')(input1)\n",
    "    x = BatchNormalization()(x)\n",
    "    x = Activation('relu')(x)\n",
    "\n",
    "    ## Second convolutional block (conv, BN, relu, dropout, conv) with residual net\n",
    "    # Left branch (convolutions)\n",
    "    x1 = Conv1D(filters=convfilt, kernel_size=ksize, padding='same', strides=convstr, kernel_initializer='he_normal')(x)\n",
    "    x1 = BatchNormalization()(x1)\n",
    "    x1 = Activation('relu')(x1)\n",
    "    x1 = Dropout(drop)(x1)\n",
    "    x1 = Conv1D(filters=convfilt, kernel_size=ksize, padding='same', strides=convstr, kernel_initializer='he_normal')(x1)\n",
    "    x1 = MaxPooling1D(pool_size=poolsize, strides=poolstr)(x1)\n",
    "\n",
    "    # Right branch, shortcut branch pooling\n",
    "    x2 = MaxPooling1D(pool_size=poolsize, strides=poolstr)(x)\n",
    "\n",
    "    # Merge both branches\n",
    "    x = keras.layers.add([x1, x2])\n",
    "\n",
    "    del x1, x2\n",
    "\n",
    "    ## Main loop\n",
    "    p = not p\n",
    "    for l in range(layer):\n",
    "\n",
    "        if (l % 4 == 0) and (l > 0):  # increment k on every fourth residual block\n",
    "            k += 1\n",
    "            # increase depth by 1x1 Convolution case dimension shall change\n",
    "            xshort = Conv1D(filters=convfilt * k, kernel_size=1)(x)\n",
    "        else:\n",
    "            xshort = x\n",
    "            # Left branch (convolutions)\n",
    "        # notice the ordering of the operations has changed\n",
    "        x1 = BatchNormalization()(x)\n",
    "        x1 = Activation('relu')(x1)\n",
    "        x1 = Dropout(drop)(x1)\n",
    "        x1 = Conv1D(filters=convfilt * k, kernel_size=ksize, padding='same', strides=convstr, kernel_initializer='he_normal')(x1)\n",
    "        x1 = BatchNormalization()(x1)\n",
    "        x1 = Activation('relu')(x1)\n",
    "        x1 = Dropout(drop)(x1)\n",
    "        x1 = Conv1D(filters=convfilt * k, kernel_size=ksize, padding='same', strides=convstr, kernel_initializer='he_normal')(x1)\n",
    "        if p:\n",
    "            x1 = MaxPooling1D(pool_size=poolsize, strides=poolstr)(x1)\n",
    "\n",
    "            # Right branch: shortcut connection\n",
    "        if p:\n",
    "            x2 = MaxPooling1D(pool_size=poolsize, strides=poolstr)(xshort)\n",
    "        else:\n",
    "            x2 = xshort  # pool or identity\n",
    "        # Merging branches\n",
    "        x = keras.layers.add([x1, x2])\n",
    "        # change parameters\n",
    "        p = not p  # toggle pooling\n",
    "\n",
    "    # Final bit\n",
    "    x = BatchNormalization()(x)\n",
    "    x = Activation('relu')(x)\n",
    "    x = Flatten()(x)\n",
    "    # x = Dense(1000)(x)\n",
    "    # x = Dense(1000)(x)\n",
    "    out = Dense(OUTPUT_CLASS, activation='softmax')(x)\n",
    "    model = Model(inputs=input1, outputs=out)\n",
    "    model.compile(optimizer='adam', loss='categorical_crossentropy', metrics=['accuracy'])\n",
    "    model.summary()\n",
    "    return model"
   ]
  },
  {
   "attachments": {},
   "cell_type": "markdown",
   "metadata": {},
   "source": [
    "# Build and Plot Model"
   ]
  },
  {
   "cell_type": "code",
   "execution_count": 7,
   "metadata": {},
   "outputs": [
    {
     "name": "stdout",
     "output_type": "stream",
     "text": [
      "Model: \"sequential_1\"\n",
      "_________________________________________________________________\n",
      " Layer (type)                Output Shape              Param #   \n",
      "=================================================================\n",
      " conv1d_1 (Conv1D)           (None, 899, 5)            80        \n",
      "                                                                 \n",
      " batch_normalization_1 (Batc  (None, 899, 5)           20        \n",
      " hNormalization)                                                 \n",
      "                                                                 \n",
      " dropout_1 (Dropout)         (None, 899, 5)            0         \n",
      "                                                                 \n",
      " max_pooling1d_1 (MaxPooling  (None, 449, 5)           0         \n",
      " 1D)                                                             \n",
      "                                                                 \n",
      " lstm_1 (LSTM)               (None, 5)                 220       \n",
      "                                                                 \n",
      " dense_2 (Dense)             (None, 5)                 30        \n",
      "                                                                 \n",
      " dense_3 (Dense)             (None, 4)                 24        \n",
      "                                                                 \n",
      "=================================================================\n",
      "Total params: 374\n",
      "Trainable params: 364\n",
      "Non-trainable params: 10\n",
      "_________________________________________________________________\n"
     ]
    },
    {
     "name": "stderr",
     "output_type": "stream",
     "text": [
      "2023-06-22 02:15:54.001348: I tensorflow/core/common_runtime/executor.cc:1197] [/device:CPU:0] (DEBUG INFO) Executor start aborting (this does not indicate an error and you can ignore this message): INVALID_ARGUMENT: You must feed a value for placeholder tensor 'gradients/split_2_grad/concat/split_2/split_dim' with dtype int32\n",
      "\t [[{{node gradients/split_2_grad/concat/split_2/split_dim}}]]\n",
      "2023-06-22 02:15:54.003701: I tensorflow/core/common_runtime/executor.cc:1197] [/device:CPU:0] (DEBUG INFO) Executor start aborting (this does not indicate an error and you can ignore this message): INVALID_ARGUMENT: You must feed a value for placeholder tensor 'gradients/split_grad/concat/split/split_dim' with dtype int32\n",
      "\t [[{{node gradients/split_grad/concat/split/split_dim}}]]\n",
      "2023-06-22 02:15:54.005934: I tensorflow/core/common_runtime/executor.cc:1197] [/device:CPU:0] (DEBUG INFO) Executor start aborting (this does not indicate an error and you can ignore this message): INVALID_ARGUMENT: You must feed a value for placeholder tensor 'gradients/split_1_grad/concat/split_1/split_dim' with dtype int32\n",
      "\t [[{{node gradients/split_1_grad/concat/split_1/split_dim}}]]\n"
     ]
    }
   ],
   "source": [
    "# Name='CNN'\n",
    "# model = build_cnn_model(X_train.shape[1], y_train.shape[1])\n",
    "\n",
    "Name='CRNN'\n",
    "model = build_crnn_model(X_train.shape[1], y_train.shape[1])\n",
    "\n",
    "# Name='ResNet'\n",
    "# model = build_resnet_model(X_train.shape[1], y_train.shape[1], 1)\n",
    "\n",
    "keras.utils.plot_model(model, to_file='Saved_Model/'+f[0]+'_'+Name+'.pdf')"
   ]
  },
  {
   "attachments": {},
   "cell_type": "markdown",
   "metadata": {},
   "source": [
    "# Train Model"
   ]
  },
  {
   "cell_type": "code",
   "execution_count": 8,
   "metadata": {},
   "outputs": [
    {
     "name": "stdout",
     "output_type": "stream",
     "text": [
      "Epoch 1/5\n"
     ]
    },
    {
     "name": "stderr",
     "output_type": "stream",
     "text": [
      "2023-06-22 02:16:11.792000: I tensorflow/core/common_runtime/executor.cc:1197] [/device:CPU:0] (DEBUG INFO) Executor start aborting (this does not indicate an error and you can ignore this message): INVALID_ARGUMENT: You must feed a value for placeholder tensor 'gradients/split_2_grad/concat/split_2/split_dim' with dtype int32\n",
      "\t [[{{node gradients/split_2_grad/concat/split_2/split_dim}}]]\n",
      "2023-06-22 02:16:11.794344: I tensorflow/core/common_runtime/executor.cc:1197] [/device:CPU:0] (DEBUG INFO) Executor start aborting (this does not indicate an error and you can ignore this message): INVALID_ARGUMENT: You must feed a value for placeholder tensor 'gradients/split_grad/concat/split/split_dim' with dtype int32\n",
      "\t [[{{node gradients/split_grad/concat/split/split_dim}}]]\n",
      "2023-06-22 02:16:11.796234: I tensorflow/core/common_runtime/executor.cc:1197] [/device:CPU:0] (DEBUG INFO) Executor start aborting (this does not indicate an error and you can ignore this message): INVALID_ARGUMENT: You must feed a value for placeholder tensor 'gradients/split_1_grad/concat/split_1/split_dim' with dtype int32\n",
      "\t [[{{node gradients/split_1_grad/concat/split_1/split_dim}}]]\n",
      "2023-06-22 02:16:13.278744: I tensorflow/core/common_runtime/executor.cc:1197] [/device:CPU:0] (DEBUG INFO) Executor start aborting (this does not indicate an error and you can ignore this message): INVALID_ARGUMENT: You must feed a value for placeholder tensor 'gradients/split_2_grad/concat/split_2/split_dim' with dtype int32\n",
      "\t [[{{node gradients/split_2_grad/concat/split_2/split_dim}}]]\n",
      "2023-06-22 02:16:13.281486: I tensorflow/core/common_runtime/executor.cc:1197] [/device:CPU:0] (DEBUG INFO) Executor start aborting (this does not indicate an error and you can ignore this message): INVALID_ARGUMENT: You must feed a value for placeholder tensor 'gradients/split_grad/concat/split/split_dim' with dtype int32\n",
      "\t [[{{node gradients/split_grad/concat/split/split_dim}}]]\n",
      "2023-06-22 02:16:13.283387: I tensorflow/core/common_runtime/executor.cc:1197] [/device:CPU:0] (DEBUG INFO) Executor start aborting (this does not indicate an error and you can ignore this message): INVALID_ARGUMENT: You must feed a value for placeholder tensor 'gradients/split_1_grad/concat/split_1/split_dim' with dtype int32\n",
      "\t [[{{node gradients/split_1_grad/concat/split_1/split_dim}}]]\n"
     ]
    },
    {
     "name": "stdout",
     "output_type": "stream",
     "text": [
      "22/22 [==============================] - ETA: 0s - loss: 0.2895 - accuracy: 0.3236"
     ]
    },
    {
     "name": "stderr",
     "output_type": "stream",
     "text": [
      "2023-06-22 02:16:19.970969: I tensorflow/core/common_runtime/executor.cc:1197] [/device:CPU:0] (DEBUG INFO) Executor start aborting (this does not indicate an error and you can ignore this message): INVALID_ARGUMENT: You must feed a value for placeholder tensor 'gradients/split_2_grad/concat/split_2/split_dim' with dtype int32\n",
      "\t [[{{node gradients/split_2_grad/concat/split_2/split_dim}}]]\n",
      "2023-06-22 02:16:19.975339: I tensorflow/core/common_runtime/executor.cc:1197] [/device:CPU:0] (DEBUG INFO) Executor start aborting (this does not indicate an error and you can ignore this message): INVALID_ARGUMENT: You must feed a value for placeholder tensor 'gradients/split_grad/concat/split/split_dim' with dtype int32\n",
      "\t [[{{node gradients/split_grad/concat/split/split_dim}}]]\n",
      "2023-06-22 02:16:19.977305: I tensorflow/core/common_runtime/executor.cc:1197] [/device:CPU:0] (DEBUG INFO) Executor start aborting (this does not indicate an error and you can ignore this message): INVALID_ARGUMENT: You must feed a value for placeholder tensor 'gradients/split_1_grad/concat/split_1/split_dim' with dtype int32\n",
      "\t [[{{node gradients/split_1_grad/concat/split_1/split_dim}}]]\n"
     ]
    },
    {
     "name": "stdout",
     "output_type": "stream",
     "text": [
      "22/22 [==============================] - 9s 246ms/step - loss: 0.2895 - accuracy: 0.3236 - val_loss: 0.3111 - val_accuracy: 0.3522\n",
      "Epoch 2/5\n",
      "22/22 [==============================] - 5s 213ms/step - loss: 0.2861 - accuracy: 0.3425 - val_loss: 0.3072 - val_accuracy: 0.3156\n",
      "Epoch 3/5\n",
      "22/22 [==============================] - 5s 217ms/step - loss: 0.2820 - accuracy: 0.3413 - val_loss: 0.3034 - val_accuracy: 0.2990\n",
      "Epoch 4/5\n",
      "22/22 [==============================] - 5s 214ms/step - loss: 0.2785 - accuracy: 0.3436 - val_loss: 0.2999 - val_accuracy: 0.3056\n",
      "Epoch 5/5\n",
      "22/22 [==============================] - 5s 204ms/step - loss: 0.2751 - accuracy: 0.3410 - val_loss: 0.2967 - val_accuracy: 0.3156\n"
     ]
    }
   ],
   "source": [
    "history = model.fit(X_train, y_train, batch_size=128, epochs=5, verbose=1, validation_data=(X_val, y_val), \n",
    "        callbacks=[EarlyStopping(monitor='val_loss', patience=2, verbose=1)])"
   ]
  },
  {
   "attachments": {},
   "cell_type": "markdown",
   "metadata": {},
   "source": [
    "# Save model"
   ]
  },
  {
   "cell_type": "code",
   "execution_count": 9,
   "metadata": {},
   "outputs": [
    {
     "name": "stdout",
     "output_type": "stream",
     "text": [
      "Saved model to disk\n"
     ]
    }
   ],
   "source": [
    "# serialize model to JSON\n",
    "model_json = model.to_json()\n",
    "with open('Saved_Model/'+f[0]+\"_\"+Name+\".json\", \"w\") as json_file:\n",
    "    json_file.write(model_json)\n",
    "# serialize weights to HDF5\n",
    "model.save_weights('Saved_Model/'+f[0]+\"_\"+Name+\".h5\")\n",
    "print(\"Saved model to disk\")"
   ]
  },
  {
   "attachments": {},
   "cell_type": "markdown",
   "metadata": {},
   "source": [
    "# Load Model"
   ]
  },
  {
   "cell_type": "code",
   "execution_count": 10,
   "metadata": {},
   "outputs": [
    {
     "name": "stdout",
     "output_type": "stream",
     "text": [
      "Loaded model from disk\n"
     ]
    },
    {
     "name": "stderr",
     "output_type": "stream",
     "text": [
      "2023-06-22 02:16:56.286120: I tensorflow/core/common_runtime/executor.cc:1197] [/device:CPU:0] (DEBUG INFO) Executor start aborting (this does not indicate an error and you can ignore this message): INVALID_ARGUMENT: You must feed a value for placeholder tensor 'gradients/split_2_grad/concat/split_2/split_dim' with dtype int32\n",
      "\t [[{{node gradients/split_2_grad/concat/split_2/split_dim}}]]\n",
      "2023-06-22 02:16:56.288439: I tensorflow/core/common_runtime/executor.cc:1197] [/device:CPU:0] (DEBUG INFO) Executor start aborting (this does not indicate an error and you can ignore this message): INVALID_ARGUMENT: You must feed a value for placeholder tensor 'gradients/split_grad/concat/split/split_dim' with dtype int32\n",
      "\t [[{{node gradients/split_grad/concat/split/split_dim}}]]\n",
      "2023-06-22 02:16:56.290326: I tensorflow/core/common_runtime/executor.cc:1197] [/device:CPU:0] (DEBUG INFO) Executor start aborting (this does not indicate an error and you can ignore this message): INVALID_ARGUMENT: You must feed a value for placeholder tensor 'gradients/split_1_grad/concat/split_1/split_dim' with dtype int32\n",
      "\t [[{{node gradients/split_1_grad/concat/split_1/split_dim}}]]\n"
     ]
    }
   ],
   "source": [
    "from tensorflow.keras.models import model_from_json\n",
    "\n",
    "# load json and create model\n",
    "json_file = open('Saved_Model/'+f[0]+\"_\"+Name+\".json\", 'r')\n",
    "loaded_model_json = json_file.read()\n",
    "json_file.close()\n",
    "loaded_model = model_from_json(loaded_model_json)\n",
    "# load weights into new model\n",
    "loaded_model.load_weights('Saved_Model/'+f[0]+\"_\"+Name+\".h5\")\n",
    "print(\"Loaded model from disk\")\n",
    "loaded_model.compile(optimizer='adam', loss='categorical_crossentropy', metrics=['accuracy'])"
   ]
  },
  {
   "attachments": {},
   "cell_type": "markdown",
   "metadata": {},
   "source": [
    "# Predict test samples\n"
   ]
  },
  {
   "cell_type": "code",
   "execution_count": 11,
   "metadata": {},
   "outputs": [
    {
     "name": "stderr",
     "output_type": "stream",
     "text": [
      "2023-06-22 02:16:57.964936: I tensorflow/core/common_runtime/executor.cc:1197] [/device:CPU:0] (DEBUG INFO) Executor start aborting (this does not indicate an error and you can ignore this message): INVALID_ARGUMENT: You must feed a value for placeholder tensor 'gradients/split_2_grad/concat/split_2/split_dim' with dtype int32\n",
      "\t [[{{node gradients/split_2_grad/concat/split_2/split_dim}}]]\n",
      "2023-06-22 02:16:57.967907: I tensorflow/core/common_runtime/executor.cc:1197] [/device:CPU:0] (DEBUG INFO) Executor start aborting (this does not indicate an error and you can ignore this message): INVALID_ARGUMENT: You must feed a value for placeholder tensor 'gradients/split_grad/concat/split/split_dim' with dtype int32\n",
      "\t [[{{node gradients/split_grad/concat/split/split_dim}}]]\n",
      "2023-06-22 02:16:57.970068: I tensorflow/core/common_runtime/executor.cc:1197] [/device:CPU:0] (DEBUG INFO) Executor start aborting (this does not indicate an error and you can ignore this message): INVALID_ARGUMENT: You must feed a value for placeholder tensor 'gradients/split_1_grad/concat/split_1/split_dim' with dtype int32\n",
      "\t [[{{node gradients/split_1_grad/concat/split_1/split_dim}}]]\n"
     ]
    },
    {
     "name": "stdout",
     "output_type": "stream",
     "text": [
      "11/11 [==============================] - 1s 42ms/step\n"
     ]
    }
   ],
   "source": [
    "new_y_pred = loaded_model.predict(X_test)\n",
    "y_test_arg = np.argmax(np.round(y_test),axis=1)\n",
    "y_pred_arg = np.argmax(np.round(new_y_pred),axis=1)\n",
    "y_pred = np.zeros((new_y_pred.shape[0],new_y_pred.shape[1]))"
   ]
  },
  {
   "attachments": {},
   "cell_type": "markdown",
   "metadata": {},
   "source": [
    "# Plot model training curves\n"
   ]
  },
  {
   "cell_type": "code",
   "execution_count": 12,
   "metadata": {},
   "outputs": [],
   "source": [
    "accuracy = history.history['accuracy']\n",
    "val_accuracy = history.history['val_accuracy']\n",
    "loss = history.history['loss']\n",
    "val_loss = history.history['val_loss']\n",
    "epochs = range(len(accuracy))\n",
    "plt.figure(figsize=(8,4))\n",
    "plt.plot(epochs, accuracy, label='Training accuracy')\n",
    "plt.plot(epochs, val_accuracy, label='Validation accuracy')\n",
    "plt.title('Training and validation accuracy')\n",
    "plt.xlabel('Epochs')\n",
    "plt.ylabel('Accuracy')\n",
    "plt.legend()\n",
    "plt.savefig('Stats/'+f[0]+'_'+Name+'_acc.png',dpi=200)\n",
    "plt.close()\n",
    "\n",
    "plt.figure(figsize=(8,4))\n",
    "plt.plot(epochs, loss, label='Training loss')\n",
    "plt.plot(epochs, val_loss, label='Validation loss')\n",
    "plt.title('Training and validation loss')\n",
    "plt.xlabel('Epochs')\n",
    "plt.ylabel('Loss')\n",
    "plt.legend()\n",
    "plt.savefig('Stats/'+f[0]+'_'+Name+'_loss.png',dpi=200)\n",
    "plt.close()\n"
   ]
  },
  {
   "attachments": {},
   "cell_type": "markdown",
   "metadata": {},
   "source": [
    "Plot Confusion Matrix"
   ]
  },
  {
   "cell_type": "code",
   "execution_count": 13,
   "metadata": {},
   "outputs": [],
   "source": [
    "def plot_confusion_matrix(cm, name, Name, classes,\n",
    "                          normalize=False,\n",
    "                          title='Confusion matrix',\n",
    "                          cmap=plt.cm.Blues):\n",
    "    \"\"\"\n",
    "    This function prints and plots the confusion matrix.\n",
    "    Normalization can be applied by setting `normalize=True`.\n",
    "    \"\"\"\n",
    "    plt.imshow(cm, interpolation='nearest', cmap=cmap)\n",
    "    plt.title(title)\n",
    "    plt.colorbar()\n",
    "    tick_marks = np.arange(len(classes))\n",
    "    plt.xticks(tick_marks, classes, rotation=0)\n",
    "    plt.yticks(tick_marks, classes)\n",
    "\n",
    "    if normalize:\n",
    "        cm = cm.astype('float') / cm.sum(axis=1)[:, np.newaxis]\n",
    "        #print(\"Normalized confusion matrix\")\n",
    "    else:\n",
    "        1#print('Confusion matrix, without normalization')\n",
    "\n",
    "    #print(cm)\n",
    "\n",
    "    thresh = cm.max() / 2.\n",
    "    for i, j in itertools.product(range(cm.shape[0]), range(cm.shape[1])):\n",
    "        plt.text(j, i, cm[i, j],\n",
    "                 horizontalalignment=\"center\",\n",
    "                 color=\"white\" if cm[i, j] > thresh else \"black\")\n",
    "\n",
    "    # plt.tight_layout()\n",
    "    plt.ylabel('True label')\n",
    "    plt.xlabel('Predicted label')\n",
    "    plt.savefig('Stats/'+name+'_'+Name+'_confmat.png',dpi=250)\n",
    "    plt.close()"
   ]
  },
  {
   "cell_type": "code",
   "execution_count": 14,
   "metadata": {},
   "outputs": [],
   "source": [
    "for i in range(y_pred.shape[0]):\n",
    "    y_pred[i][y_pred_arg[i]] = 1\n",
    "\n",
    "cnf_matrix = confusion_matrix(y_test_arg, y_pred_arg)\n",
    "\n",
    "# Plot non-normalized confusion matrix\n",
    "class_names = ['Normal','AFiB','Other', 'Noisy']\n",
    "plt.figure(figsize=(8,5))\n",
    "plot_confusion_matrix(cnf_matrix, name = f[0], Name=Name, classes=class_names, title='Confusion matrix')"
   ]
  },
  {
   "cell_type": "code",
   "execution_count": null,
   "metadata": {},
   "outputs": [],
   "source": []
  },
  {
   "cell_type": "code",
   "execution_count": 20,
   "metadata": {},
   "outputs": [],
   "source": [
    "# !pip install pycm\n",
    "# print (classification_report(y_test, y_pred))\n"
   ]
  },
  {
   "cell_type": "code",
   "execution_count": 19,
   "metadata": {},
   "outputs": [],
   "source": [
    "# # Plot confusion matrix\n",
    "# from pycm import *\n",
    "# cm = ConfusionMatrix(actual_vector=y_test_arg, predict_vector=y_pred_arg)\n",
    "# totalt = cm.__dict__\n",
    "\n",
    "# TP = totalt['TP']\n",
    "# FP = totalt['FP']\n",
    "# TN = totalt['TN']\n",
    "# FN = totalt['FN']\n",
    "\n",
    "# PPV = totalt['PPV']\n",
    "# ACC = totalt['ACC']\n",
    "# SEN = totalt['TPR']\n",
    "# SPE = totalt['TNR']\n",
    "# F1S = totalt['F1']\n",
    "# AUC = totalt['AUC']\n",
    "\n",
    "# # print ('TP,FP,TN,FN,Precision,Accuracy,Sensitivity,Specificity,F1Score,AUC')\n",
    "# # print (TP[0], ',', FP[0], ',', TN[0], ',', FN[0], ',', '{:.2f}%'.format(PPV[0]*100), ',', '{:.2f}%'.format(ACC[0]*100), ',', '{:.2f}%'.format(SEN[0]*100), ',','{:.2f}%'.format(SPE[0]*100), ',','{:.2f}%'.format(F1S[0]*100), ',','{:.2f}%'.format(AUC[0]*100))\n",
    "# # print (TP[1], ',', FP[1], ',', TN[1], ',', FN[1], ',', '{:.2f}%'.format(PPV[1]*100), ',','{:.2f}%'.format(ACC[1]*100), ',','{:.2f}%'.format(SEN[1]*100), ',','{:.2f}%'.format(SPE[1]*100), ',','{:.2f}%'.format(F1S[1]*100), ',','{:.2f}%'.format(AUC[1]*100))\n",
    "# # print (TP[2], ',', FP[2], ',', TN[2], ',', FN[2], ',', '{:.2f}%'.format(PPV[2]*100), ',','{:.2f}%'.format(ACC[2]*100), ',','{:.2f}%'.format(SEN[2]*100), ',','{:.2f}%'.format(SPE[2]*100), ',','{:.2f}%'.format(F1S[2]*100), ',','{:.2f}%'.format(AUC[2]*100))\n",
    "\n",
    "\n"
   ]
  },
  {
   "cell_type": "code",
   "execution_count": null,
   "metadata": {},
   "outputs": [],
   "source": [
    "# model.add(Flatten())\n",
    "\n",
    "# model.add(Dense(128, activation='relu'))\n",
    "# model.add(Dense(y.shape[1], activation='softmax'))\n",
    "\n",
    "\n",
    "# model.add(Conv2D(512, 3, strides=(32, 4), padding='same', input_shape=(1, 32, None)))\n",
    "# model.add(Reshape((512, -1)))\n",
    "# model.add(Permute((2, 1)))\n",
    "# model = Sequential()\n",
    "# model.add(LSTM(200, activation='relu', input_shape=(X.shape[1],1)))"
   ]
  },
  {
   "cell_type": "code",
   "execution_count": null,
   "metadata": {},
   "outputs": [],
   "source": [
    "# 81% recall. That means the model correctly identified 81% of the total bad loans. That’s pretty great. \n",
    "# But is this actually representative of how the model will perform? To find out, I’ll calculate the accuracy \n",
    "# and recall for the model on the test dataset I created initially.\n",
    "# By oversampling before splitting into training and validation datasets, I “bleed” information from the\n",
    "# validation set into the training of the model.\n",
    "\n",
    "# To see how this works, think about the case of simple oversampling (where I just duplicate observations). \n",
    "# If I upsample a dataset before splitting it into a train and validation set, I could end up with the same \n",
    "# observation in both datasets. As a result, a complex enough model will be able to perfectly predict the value \n",
    "# for those observations when predicting on the validation set, inflating the accuracy and recall.\n",
    "\n",
    "# When upsampling using SMOTE, I don’t create duplicate observations. However, because the SMOTE algorithm uses\n",
    "# the nearest neighbors of observations to create synthetic data, it still bleeds information. If the nearest \n",
    "# neighbors of minority class observations in the training set end up in the validation set, their information \n",
    "# is partially captured by the synthetic data in the training set. Since I’m splitting the data randomly, we’d\n",
    "# expect to have this happen. As a result, the model will be better able to predict validation set values than\n",
    "# completely new data.\n"
   ]
  }
 ],
 "metadata": {
  "kernelspec": {
   "display_name": "Python 3",
   "language": "python",
   "name": "python3"
  },
  "language_info": {
   "codemirror_mode": {
    "name": "ipython",
    "version": 3
   },
   "file_extension": ".py",
   "mimetype": "text/x-python",
   "name": "python",
   "nbconvert_exporter": "python",
   "pygments_lexer": "ipython3",
   "version": "3.10.6"
  }
 },
 "nbformat": 4,
 "nbformat_minor": 2
}
